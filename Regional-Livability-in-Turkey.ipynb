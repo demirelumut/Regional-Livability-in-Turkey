{
 "cells": [
  {
   "cell_type": "code",
   "id": "initial_id",
   "metadata": {
    "ExecuteTime": {
     "end_time": "2025-03-18T12:12:41.912548Z",
     "start_time": "2025-03-18T12:12:40.899293Z"
    }
   },
   "source": [
    "#Erdogan Umut Demirel\n",
    "#2106102064\n",
    "\n",
    "import numpy as np\n",
    "import pandas as pd\n",
    "import matplotlib.pyplot as plt\n"
   ],
   "outputs": [],
   "execution_count": 1
  },
  {
   "cell_type": "code",
   "id": "f9f37032b6e4c6d0",
   "metadata": {
    "ExecuteTime": {
     "end_time": "2025-03-18T12:12:41.920013Z",
     "start_time": "2025-03-18T12:12:41.915782Z"
    }
   },
   "source": [
    "file_path = 'Q2housingdata.xlsx'\n",
    "explanation_path = 'Q2explanation.xlsx'\n",
    "\n"
   ],
   "outputs": [],
   "execution_count": 2
  },
  {
   "cell_type": "code",
   "id": "191f2f09-09c9-4a26-95d7-e02b8b516a8e",
   "metadata": {
    "ExecuteTime": {
     "end_time": "2025-03-18T12:12:54.908208Z",
     "start_time": "2025-03-18T12:12:41.921023Z"
    }
   },
   "source": [
    "data = pd.read_excel(file_path, sheet_name='GYK_Hane')\n",
    "explanations = pd.read_excel(explanation_path, sheet_name='Table 1')"
   ],
   "outputs": [],
   "execution_count": 3
  },
  {
   "cell_type": "code",
   "id": "c25865d60100df61",
   "metadata": {
    "ExecuteTime": {
     "end_time": "2025-03-18T12:12:54.917291Z",
     "start_time": "2025-03-18T12:12:54.909223Z"
    }
   },
   "source": [
    "\n",
    "# Açıklamalar tablosunu düzenleme\n",
    "explanations_cleaned = explanations.rename(columns={\n",
    "    explanations.columns[0]: \"Kod\",\n",
    "    explanations.columns[1]: \"Açıklama\"\n",
    "})[['Kod', 'Açıklama']].dropna()\n"
   ],
   "outputs": [],
   "execution_count": 4
  },
  {
   "cell_type": "code",
   "id": "10ea458a-954e-4526-bc6d-6de8eb62ac6e",
   "metadata": {
    "ExecuteTime": {
     "end_time": "2025-03-18T12:12:54.925236Z",
     "start_time": "2025-03-18T12:12:54.919851Z"
    }
   },
   "source": [
    "# Kullanılacak sütunlar\n",
    "final_columns = ['HB030', 'HB031', 'HH070', 'HS010', 'HS020', 'HS030', 'HS040', 'HS050', 'HS070', 'HE050']\n"
   ],
   "outputs": [],
   "execution_count": 5
  },
  {
   "cell_type": "code",
   "id": "03f4754b-dc89-4f6d-9644-589f0aae197e",
   "metadata": {
    "ExecuteTime": {
     "end_time": "2025-03-18T12:12:54.934849Z",
     "start_time": "2025-03-18T12:12:54.927244Z"
    }
   },
   "source": [
    "# Sütunları filtreleme\n",
    "filtered_df = data[final_columns]"
   ],
   "outputs": [],
   "execution_count": 6
  },
  {
   "cell_type": "code",
   "id": "beceb744-3152-4591-9831-ce55573dceb2",
   "metadata": {
    "ExecuteTime": {
     "end_time": "2025-03-18T12:12:54.945043Z",
     "start_time": "2025-03-18T12:12:54.937857Z"
    }
   },
   "source": [
    "# Kodlar ve açıklamaları eşleştirme\n",
    "header_mapping = explanations_cleaned[explanations_cleaned['Kod'].isin(final_columns)].set_index('Kod')['Açıklama'].to_dict()"
   ],
   "outputs": [],
   "execution_count": 7
  },
  {
   "cell_type": "code",
   "id": "92e0008b-7a1e-4554-b066-5fa0a8dc2c37",
   "metadata": {
    "ExecuteTime": {
     "end_time": "2025-03-18T12:12:54.954119Z",
     "start_time": "2025-03-18T12:12:54.947053Z"
    }
   },
   "source": [
    "\n",
    "# Sütun adlarını açıklamalarla değiştirme\n",
    "renamed_df = filtered_df.rename(columns=header_mapping)\n"
   ],
   "outputs": [],
   "execution_count": 8
  },
  {
   "cell_type": "code",
   "id": "9db592d6-a4ea-456b-8027-2a1e1d1fedb8",
   "metadata": {
    "ExecuteTime": {
     "end_time": "2025-03-18T12:12:54.980625Z",
     "start_time": "2025-03-18T12:12:54.956129Z"
    }
   },
   "source": [
    "renamed_df.head()"
   ],
   "outputs": [
    {
     "data": {
      "text/plain": [
       "  İstatistiki Bölge Birimleri Sınıflaması, 1. Düzey  \\\n",
       "0                                               TR1   \n",
       "1                                               TR1   \n",
       "2                                               TR1   \n",
       "3                                               TR1   \n",
       "4                                               TR1   \n",
       "\n",
       "  İstatistiki Bölge Birimleri Sınıflaması, 2. Düzey  \\\n",
       "0                                              TR11   \n",
       "1                                              TR11   \n",
       "2                                              TR11   \n",
       "3                                              TR11   \n",
       "4                                              TR11   \n",
       "\n",
       "   Oturulan konuttaki faydalanılan alanın metrekare olarak\\nbüyüklüğü (m2)  \\\n",
       "0                                                 90                         \n",
       "1                                                120                         \n",
       "2                                                120                         \n",
       "3                                                100                         \n",
       "4                                                 70                         \n",
       "\n",
       "   Oturulan konutta sızdıran çatı, nemli duvarlar, çürümüş pencere çerçeveleri gibi bir problemin mevcut olma durumu  \\\n",
       "0                                                  2                                                                   \n",
       "1                                                  1                                                                   \n",
       "2                                                  2                                                                   \n",
       "3                                                  2                                                                   \n",
       "4                                                  2                                                                   \n",
       "\n",
       "   Oturulan konutta, konutun izolasyonundan dolayı ısınma sorunu olup olmadığı  \\\n",
       "0                                                  2                             \n",
       "1                                                  1                             \n",
       "2                                                  2                             \n",
       "3                                                  2                             \n",
       "4                                                  2                             \n",
       "\n",
       "   Oturulan konutta, odaların karanlık olması veya yeterli ışık almaması gibi bir sorun olup olmadığı  \\\n",
       "0                                                  2                                                    \n",
       "1                                                  2                                                    \n",
       "2                                                  2                                                    \n",
       "3                                                  2                                                    \n",
       "4                                                  2                                                    \n",
       "\n",
       "   Oturulan konutta, komşulardan veya sokaktan gelen gürültü probleminin olup olmadığı  \\\n",
       "0                                                  2                                     \n",
       "1                                                  2                                     \n",
       "2                                                  2                                     \n",
       "3                                                  2                                     \n",
       "4                                                  2                                     \n",
       "\n",
       "   Oturulan konutun kullanım alanının yeterli olup olmadığı  \\\n",
       "0                                                  1          \n",
       "1                                                  1          \n",
       "2                                                  1          \n",
       "3                                                  1          \n",
       "4                                                  2          \n",
       "\n",
       "   Yaşanılan çevrede suç veya şiddet olayları ile yoğun bir şekilde karşılaşılıp karşılaşılmadığı  \\\n",
       "0                                                  2                                                \n",
       "1                                                  2                                                \n",
       "2                                                  2                                                \n",
       "3                                                  1                                                \n",
       "4                                                  2                                                \n",
       "\n",
       "   Bir ay boyunca geçinebilmek için hanenin sahip olması gereken en düşük aylık net gelirin ne kadar olacağı  \n",
       "0                                               7000                                                          \n",
       "1                                               3000                                                          \n",
       "2                                               6000                                                          \n",
       "3                                               4000                                                          \n",
       "4                                               2000                                                          "
      ],
      "text/html": [
       "<div>\n",
       "<style scoped>\n",
       "    .dataframe tbody tr th:only-of-type {\n",
       "        vertical-align: middle;\n",
       "    }\n",
       "\n",
       "    .dataframe tbody tr th {\n",
       "        vertical-align: top;\n",
       "    }\n",
       "\n",
       "    .dataframe thead th {\n",
       "        text-align: right;\n",
       "    }\n",
       "</style>\n",
       "<table border=\"1\" class=\"dataframe\">\n",
       "  <thead>\n",
       "    <tr style=\"text-align: right;\">\n",
       "      <th></th>\n",
       "      <th>İstatistiki Bölge Birimleri Sınıflaması, 1. Düzey</th>\n",
       "      <th>İstatistiki Bölge Birimleri Sınıflaması, 2. Düzey</th>\n",
       "      <th>Oturulan konuttaki faydalanılan alanın metrekare olarak\\nbüyüklüğü (m2)</th>\n",
       "      <th>Oturulan konutta sızdıran çatı, nemli duvarlar, çürümüş pencere çerçeveleri gibi bir problemin mevcut olma durumu</th>\n",
       "      <th>Oturulan konutta, konutun izolasyonundan dolayı ısınma sorunu olup olmadığı</th>\n",
       "      <th>Oturulan konutta, odaların karanlık olması veya yeterli ışık almaması gibi bir sorun olup olmadığı</th>\n",
       "      <th>Oturulan konutta, komşulardan veya sokaktan gelen gürültü probleminin olup olmadığı</th>\n",
       "      <th>Oturulan konutun kullanım alanının yeterli olup olmadığı</th>\n",
       "      <th>Yaşanılan çevrede suç veya şiddet olayları ile yoğun bir şekilde karşılaşılıp karşılaşılmadığı</th>\n",
       "      <th>Bir ay boyunca geçinebilmek için hanenin sahip olması gereken en düşük aylık net gelirin ne kadar olacağı</th>\n",
       "    </tr>\n",
       "  </thead>\n",
       "  <tbody>\n",
       "    <tr>\n",
       "      <th>0</th>\n",
       "      <td>TR1</td>\n",
       "      <td>TR11</td>\n",
       "      <td>90</td>\n",
       "      <td>2</td>\n",
       "      <td>2</td>\n",
       "      <td>2</td>\n",
       "      <td>2</td>\n",
       "      <td>1</td>\n",
       "      <td>2</td>\n",
       "      <td>7000</td>\n",
       "    </tr>\n",
       "    <tr>\n",
       "      <th>1</th>\n",
       "      <td>TR1</td>\n",
       "      <td>TR11</td>\n",
       "      <td>120</td>\n",
       "      <td>1</td>\n",
       "      <td>1</td>\n",
       "      <td>2</td>\n",
       "      <td>2</td>\n",
       "      <td>1</td>\n",
       "      <td>2</td>\n",
       "      <td>3000</td>\n",
       "    </tr>\n",
       "    <tr>\n",
       "      <th>2</th>\n",
       "      <td>TR1</td>\n",
       "      <td>TR11</td>\n",
       "      <td>120</td>\n",
       "      <td>2</td>\n",
       "      <td>2</td>\n",
       "      <td>2</td>\n",
       "      <td>2</td>\n",
       "      <td>1</td>\n",
       "      <td>2</td>\n",
       "      <td>6000</td>\n",
       "    </tr>\n",
       "    <tr>\n",
       "      <th>3</th>\n",
       "      <td>TR1</td>\n",
       "      <td>TR11</td>\n",
       "      <td>100</td>\n",
       "      <td>2</td>\n",
       "      <td>2</td>\n",
       "      <td>2</td>\n",
       "      <td>2</td>\n",
       "      <td>1</td>\n",
       "      <td>1</td>\n",
       "      <td>4000</td>\n",
       "    </tr>\n",
       "    <tr>\n",
       "      <th>4</th>\n",
       "      <td>TR1</td>\n",
       "      <td>TR11</td>\n",
       "      <td>70</td>\n",
       "      <td>2</td>\n",
       "      <td>2</td>\n",
       "      <td>2</td>\n",
       "      <td>2</td>\n",
       "      <td>2</td>\n",
       "      <td>2</td>\n",
       "      <td>2000</td>\n",
       "    </tr>\n",
       "  </tbody>\n",
       "</table>\n",
       "</div>"
      ]
     },
     "execution_count": 9,
     "metadata": {},
     "output_type": "execute_result"
    }
   ],
   "execution_count": 9
  },
  {
   "cell_type": "code",
   "id": "6c28f9d9-f028-4c0a-bb18-6659b321e39d",
   "metadata": {
    "ExecuteTime": {
     "end_time": "2025-03-18T12:12:54.986823Z",
     "start_time": "2025-03-18T12:12:54.982634Z"
    }
   },
   "source": [
    "\n"
   ],
   "outputs": [],
   "execution_count": 9
  },
  {
   "cell_type": "code",
   "id": "8d38c593-f5e5-4ae9-a224-96f124fd5f31",
   "metadata": {
    "ExecuteTime": {
     "end_time": "2025-03-18T12:12:55.456461Z",
     "start_time": "2025-03-18T12:12:54.988836Z"
    }
   },
   "source": [
    "import matplotlib.pyplot as plt\n",
    "\n",
    "selected_columns = ['HS010', 'HS020', 'HS030', 'HS040', 'HS050', 'HS070']\n",
    "region_column = 'HB031' # Bölgeyi temsil eden sütun\n",
    "\n",
    "# Veri hazırlama\n",
    "data_for_analysis = data[selected_columns + [region_column]]\n",
    "\n",
    "# 1 ve 2 değerlerine göre yüzdelik hesaplama\n",
    "percentage_data = data_for_analysis.melt(id_vars=region_column, value_vars=selected_columns, var_name=\"Kriter\", value_name=\"Değer\")\n",
    "percentage_summary = percentage_data.groupby([region_column, \"Değer\"]).size().unstack(fill_value=0)\n",
    "\n",
    "# Yüzdeye çevirme\n",
    "percentage_summary = percentage_summary.div(percentage_summary.sum(axis=1), axis=0) * 100\n",
    "\n",
    "# Sadece \"Kötü\" (2) değerinin yüzdesini seçme\n",
    "kotu_percentage = percentage_summary[1]\n",
    "\n",
    "# Çizgisel grafik çizimi (sadece kötü)\n",
    "kotu_percentage.plot(kind='line', figsize=(12, 6), marker='o', color='red')\n",
    "plt.title(\"Bölgelerde Problemlerin Yüzdelik Dağılımı\")\n",
    "plt.xlabel(\"Bölgeler\")\n",
    "plt.ylabel(\"Yüzdelik (%)\")\n",
    "plt.grid(True)\n",
    "plt.tight_layout()\n",
    "plt.show()\n"
   ],
   "outputs": [
    {
     "data": {
      "text/plain": [
       "<Figure size 1200x600 with 1 Axes>"
      ],
      "image/png": "[encoded data removed]"
     },
     "metadata": {},
     "output_type": "display_data"
    }
   ],
   "execution_count": 10
  },
  {
   "cell_type": "code",
   "id": "14097ab7-d510-48ee-bc19-6ef66b407c4c",
   "metadata": {
    "ExecuteTime": {
     "end_time": "2025-03-18T12:14:25.566791Z",
     "start_time": "2025-03-18T12:13:49.587085Z"
    }
   },
   "source": [
    "import pandas as pd\n",
    "\n",
    "# Veriyi yükleme\n",
    "data_path = 'Q2housingdata.xlsx'\n",
    "data_df = pd.read_excel(data_path, sheet_name='GYK_Hane')\n",
    "\n",
    "# Bölgelerin açıklamaları\n",
    "region_descriptions = {\n",
    "    \"TR11\": \"İstanbul\",\n",
    "    \"TR21\": \"Tekirdağ, Edirne, Kırklareli\",\n",
    "    \"TR22\": \"Balıkesir, Çanakkale\",\n",
    "    \"TR31\": \"İzmir\",\n",
    "    \"TR32\": \"Aydın, Denizli, Muğla\",\n",
    "    \"TR33\": \"Manisa, Afyon, Kütahya, Uşak\",\n",
    "    \"TR41\": \"Bursa, Eskişehir, Bilecik\",\n",
    "    \"TR42\": \"Kocaeli, Sakarya, Düzce, Bolu, Yalova\",\n",
    "    \"TR51\": \"Ankara\",\n",
    "    \"TR52\": \"Konya, Karaman\",\n",
    "    \"TR61\": \"Antalya, Isparta, Burdur\",\n",
    "    \"TR62\": \"Adana, Mersin\",\n",
    "    \"TR63\": \"Hatay, Kahramanmaraş, Osmaniye\",\n",
    "    \"TR71\": \"Kırıkkale, Aksaray, Niğde, Nevşehir, Kırşehir\",\n",
    "    \"TR72\": \"Kayseri, Sivas, Yozgat\",\n",
    "    \"TR81\": \"Zonguldak, Karabük, Bartın\",\n",
    "    \"TR82\": \"Kastamonu, Çankırı, Sinop\",\n",
    "    \"TR83\": \"Samsun, Tokat, Çorum, Amasya\",\n",
    "    \"TR90\": \"Trabzon, Ordu, Giresun, Rize, Artvin, Gümüşhane\",\n",
    "    \"TRA1\": \"Erzurum, Erzincan, Bayburt\",\n",
    "    \"TRA2\": \"Ağrı, Kars, Iğdır, Ardahan\",\n",
    "    \"TRB1\": \"Malatya, Elazığ, Bingöl, Tunceli\",\n",
    "    \"TRB2\": \"Van, Muş, Bitlis, Hakkari\",\n",
    "    \"TRC1\": \"Gaziantep, Adıyaman, Kilis\",\n",
    "    \"TRC2\": \"Şanlıurfa, Diyarbakır\",\n",
    "    \"TRC3\": \"Mardin, Batman, Şırnak, Siirt\",\n",
    "}\n",
    "\n",
    "def get_input_limits(hb031):\n",
    "    \"\"\"\n",
    "    Belirtilen bölge (HB031) için mümkün olan minimum ve maksimum değerleri döndürür.\n",
    "    \"\"\"\n",
    "    filtered_data = data_df[data_df['HB031'] == hb031]\n",
    "\n",
    "    if filtered_data.empty:\n",
    "        return f\"Seçilen bölge ({hb031}) için veri bulunamadı. Lütfen bölgeyi kontrol edin.\"\n",
    "\n",
    "    min_income = filtered_data['HE050'].min()\n",
    "    max_income = filtered_data['HE050'].max()\n",
    "\n",
    "    return {\"Min Net Gelir (HE050)\": min_income, \"Max Net Gelir (HE050)\": max_income}\n",
    "\n",
    "def get_area_limits(hb031, min_income, max_income):\n",
    "    \"\"\"\n",
    "    Belirtilen bölge ve gelir aralığı için uygun konut büyüklüklerini döndürür.\n",
    "    \"\"\"\n",
    "    filtered_data = data_df[\n",
    "        (data_df['HB031'] == hb031) &\n",
    "        (data_df['HE050'] >= min_income) &\n",
    "        (data_df['HE050'] <= max_income)\n",
    "    ]\n",
    "\n",
    "    if filtered_data.empty:\n",
    "        return f\"Seçilen bölge ve gelir için uygun konut bulunamadı.\"\n",
    "\n",
    "    min_area = filtered_data['HH070'].min()\n",
    "    max_area = filtered_data['HH070'].max()\n",
    "\n",
    "    return {\"Min Konut Metrekare (HH070)\": min_area, \"Max Konut Metrekare (HH070)\": max_area}\n",
    "\n",
    "def problem_analysis_ratio_with_assessment(hb031, min_income, max_income, min_area, max_area):\n",
    "    \"\"\"\n",
    "    Belirtilen bölge (HB031), gelir ve konut büyüklüğüne göre problem oranını hesaplar ve bölgeyi değerlendirir.\n",
    "    \"\"\"\n",
    "    filtered_data = data_df[\n",
    "        (data_df['HB031'] == hb031) &\n",
    "        (data_df['HE050'] >= min_income) &\n",
    "        (data_df['HE050'] <= max_income) &\n",
    "        (data_df['HH070'] >= min_area) &\n",
    "        (data_df['HH070'] <= max_area)\n",
    "    ]\n",
    "\n",
    "    if filtered_data.empty:\n",
    "        return f\"Seçilen kriterlere uygun veri bulunamadı. Lütfen bilgilerinizi kontrol edin.\"\n",
    "\n",
    "    problem_columns = ['HS010', 'HS020', 'HS030', 'HS040', 'HS050', 'HS070']\n",
    "    problem_counts = (filtered_data[problem_columns] == 1).sum(axis=1).sum()\n",
    "    total_homes = len(filtered_data) * len(problem_columns)\n",
    "\n",
    "    problem_ratio = problem_counts / total_homes\n",
    "\n",
    "    if problem_ratio < 0.1:\n",
    "        assessment = \"Yasam Kosullari cok iyi\"\n",
    "    elif 0.1 <= problem_ratio < 0.2:\n",
    "        assessment = \"Yasam kosullari iyi\"\n",
    "    elif 0.2 <= problem_ratio < 0.5:\n",
    "        assessment = \"Yasam kosullari orta\"\n",
    "    elif 0.5 <= problem_ratio < 0.7:\n",
    "        assessment = \"Yasam kosullari koyu\"\n",
    "    else:\n",
    "        assessment = \"Yasam kosullari cok kotu\"\n",
    "\n",
    "    return f\" Değerlendirme: {assessment}\"\n",
    "\n",
    "# Kullanıcıdan giriş alıp analizi gerçekleştirme\n",
    "print(\"Bölgeler:\")\n",
    "for code, description in region_descriptions.items():\n",
    "    print(f\"{code}: {description}\")\n",
    "\n",
    "hb031_input = input(\"Oturulan bölgeyi seçin : \")\n",
    "\n",
    "limits = get_input_limits(hb031_input)\n",
    "if isinstance(limits, dict):\n",
    "    print(\"Seçilen bölge için girebileceğiniz net gelir aralığı:\")\n",
    "    for key, value in limits.items():\n",
    "        print(f\"{key}: {value}\")\n",
    "\n",
    "    min_income_input = int(input(\"En düşük net geliri giriniz: \"))\n",
    "    max_income_input = int(input(\"En yüksek net geliri giriniz: \"))\n",
    "    area_limits = get_area_limits(hb031_input, min_income_input, max_income_input)\n",
    "    if isinstance(area_limits, dict):\n",
    "        print(\"Seçilen gelir aralığı için uygun konut metrekare aralığı:\")\n",
    "        for key, value in area_limits.items():\n",
    "            print(f\"{key}: {value}\")\n",
    "\n",
    "        min_area_input = int(input(\"Konutun minimum metrekaresini giriniz: \"))\n",
    "        max_area_input = int(input(\"Konutun maksimum metrekaresini giriniz: \"))\n",
    "\n",
    "        result = problem_analysis_ratio_with_assessment(\n",
    "            hb031_input, min_income_input, max_income_input, min_area_input, max_area_input\n",
    "        )\n",
    "        print(result)\n",
    "    else:\n",
    "        print(area_limits)\n",
    "else:\n",
    "    print(limits)\n",
    "\n",
    "\n"
   ],
   "outputs": [
    {
     "name": "stdout",
     "output_type": "stream",
     "text": [
      "Bölgeler:\n",
      "TR11: İstanbul\n",
      "TR21: Tekirdağ, Edirne, Kırklareli\n",
      "TR22: Balıkesir, Çanakkale\n",
      "TR31: İzmir\n",
      "TR32: Aydın, Denizli, Muğla\n",
      "TR33: Manisa, Afyon, Kütahya, Uşak\n",
      "TR41: Bursa, Eskişehir, Bilecik\n",
      "TR42: Kocaeli, Sakarya, Düzce, Bolu, Yalova\n",
      "TR51: Ankara\n",
      "TR52: Konya, Karaman\n",
      "TR61: Antalya, Isparta, Burdur\n",
      "TR62: Adana, Mersin\n",
      "TR63: Hatay, Kahramanmaraş, Osmaniye\n",
      "TR71: Kırıkkale, Aksaray, Niğde, Nevşehir, Kırşehir\n",
      "TR72: Kayseri, Sivas, Yozgat\n",
      "TR81: Zonguldak, Karabük, Bartın\n",
      "TR82: Kastamonu, Çankırı, Sinop\n",
      "TR83: Samsun, Tokat, Çorum, Amasya\n",
      "TR90: Trabzon, Ordu, Giresun, Rize, Artvin, Gümüşhane\n",
      "TRA1: Erzurum, Erzincan, Bayburt\n",
      "TRA2: Ağrı, Kars, Iğdır, Ardahan\n",
      "TRB1: Malatya, Elazığ, Bingöl, Tunceli\n",
      "TRB2: Van, Muş, Bitlis, Hakkari\n",
      "TRC1: Gaziantep, Adıyaman, Kilis\n",
      "TRC2: Şanlıurfa, Diyarbakır\n",
      "TRC3: Mardin, Batman, Şırnak, Siirt\n",
      "Seçilen bölge için girebileceğiniz net gelir aralığı:\n",
      "Min Net Gelir (HE050): 250\n",
      "Max Net Gelir (HE050): 40000\n",
      "Seçilen gelir aralığı için uygun konut metrekare aralığı:\n",
      "Min Konut Metrekare (HH070): 25\n",
      "Max Konut Metrekare (HH070): 350\n",
      " Değerlendirme: Yasam kosullari orta\n"
     ]
    }
   ],
   "execution_count": 12
  },
  {
   "cell_type": "code",
   "id": "ad758ef4-1691-41dd-8336-a94b8b8c53e3",
   "metadata": {
    "ExecuteTime": {
     "end_time": "2025-03-18T12:13:15.030473Z",
     "start_time": "2025-03-18T12:13:15.024668Z"
    }
   },
   "source": [],
   "outputs": [],
   "execution_count": 11
  },
  {
   "cell_type": "code",
   "execution_count": null,
   "id": "af0a387035f9e4ae",
   "metadata": {},
   "outputs": [],
   "source": [
    "\n",
    "output_xlsx_path = 'Q2_final.xlsx'\n",
    "renamed_df.to_excel(output_xlsx_path, index=False)\n",
    "\n",
    "print(f\"SON VERI, '{output_xlsx_path}' dosyasına kaydedildi.\")"
   ]
  }
 ],
 "metadata": {
  "kernelspec": {
   "display_name": "Python 3 (ipykernel)",
   "language": "python",
   "name": "python3"
  },
  "language_info": {
   "codemirror_mode": {
    "name": "ipython",
    "version": 3
   },
   "file_extension": ".py",
   "mimetype": "text/x-python",
   "name": "python",
   "nbconvert_exporter": "python",
   "pygments_lexer": "ipython3",
   "version": "3.12.4"
  }
 },
 "nbformat": 4,
 "nbformat_minor": 5
}
